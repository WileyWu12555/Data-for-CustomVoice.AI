{
 "cells": [
  {
   "cell_type": "code",
   "execution_count": null,
   "metadata": {},
   "outputs": [],
   "source": [
    "import re\n",
    "import jieba\n",
    "from nltk.tokenize.punkt import PunktSentenceTokenizer, PunktLanguageVars"
   ]
  },
  {
   "cell_type": "markdown",
   "metadata": {},
   "source": [
    "训练用文本最好事先分句，以便和录音对齐。如果没有已经分句的文本，也没有时间精力进行人工修订，可以尝试结合[结巴分词](https://github.com/fxsjy/jieba)和[NLTK](https://github.com/nltk/nltk)。\n",
    "\n",
    "1. 继承`PunktLanguageVars`，自定义句结尾字符`sent_end_chars`\n",
    "1. 先用jieba对文本进行一次分词，在词间加上空格。`PunktSentenceTokenizer`要求句结尾字符后面有空格，否则无法正确分句"
   ]
  },
  {
   "cell_type": "code",
   "execution_count": null,
   "metadata": {},
   "outputs": [],
   "source": [
    "text = \"音视频文件应只包含人声，音效、音乐等需事先另行去除，可使用音频编辑软件，如Audacity。文本文件应只包含录音的脚本，没有ID等额外信息，建议每句一行。成功安装和使用Aeneas需要espeak。\"\n",
    "\n",
    "class ChineseLanguageVars(PunktLanguageVars):\n",
    "    sent_end_chars = ('。', '！', '？', '”')\n",
    "\n",
    "tokenizer = PunktSentenceTokenizer(lang_vars=ChineseLanguageVars())\n",
    "sentences = tokenizer.tokenize(' '.join(jieba.cut(text)))"
   ]
  },
  {
   "cell_type": "markdown",
   "metadata": {},
   "source": [
    "可以进一步对句子进行简单分析。\n",
    "\n",
    "* 目前的中文自定义声音模型暂不支持双语，最好去掉含英文词的句子，否则会影响模型质量。\n",
    "* 句子长度一般用词数衡量，而对中文而言字数更合适，也可进行统计以供参考。"
   ]
  },
  {
   "cell_type": "code",
   "execution_count": null,
   "metadata": {},
   "outputs": [],
   "source": [
    "for sentence in sentences:\n",
    "    words = sentence.split(' ')\n",
    "    sentence_len = 0\n",
    "    for word in words:\n",
    "        if re.compile('[a-zA-Z0-9]+').search(word):\n",
    "            length = 1\n",
    "            if re.compile('[a-zA-Z]+').search(word):\n",
    "                print('Western word \"{word}\" detected in \"{sentence}\"'.format(word=word, sentence=sentence))\n",
    "        elif re.compile('[。！？”、“‘’；：]+').search(word):\n",
    "            length = 0\n",
    "        else:\n",
    "            length = len(word)\n",
    "        sentence_len += length"
   ]
  }
 ],
 "metadata": {
  "kernelspec": {
   "display_name": "Python 3",
   "language": "python",
   "name": "python3"
  },
  "language_info": {
   "codemirror_mode": {
    "name": "ipython",
    "version": 3
   },
   "file_extension": ".py",
   "mimetype": "text/x-python",
   "name": "python",
   "nbconvert_exporter": "python",
   "pygments_lexer": "ipython3",
   "version": "3.6.5"
  }
 },
 "nbformat": 4,
 "nbformat_minor": 2
}
