{
 "cells": [
  {
   "cell_type": "code",
   "execution_count": null,
   "metadata": {},
   "outputs": [],
   "source": [
    "from aeneas.executetask import ExecuteTask\n",
    "from aeneas.syncmap import SyncMapFormat\n",
    "from aeneas.task import Task\n",
    "from aeneas.task import TaskConfiguration\n",
    "from aeneas.textfile import TextFileFormat\n",
    "import aeneas.globalconstants as gc"
   ]
  },
  {
   "cell_type": "code",
   "execution_count": null,
   "metadata": {},
   "outputs": [],
   "source": [
    "def align(mediafile, textfile, lang):\n",
    "    # create Task object and config\n",
    "    config = TaskConfiguration()\n",
    "    config[gc.PPN_TASK_LANGUAGE] = lang\n",
    "    config[gc.PPN_TASK_IS_TEXT_FILE_FORMAT] = TextFileFormat.UNPARSED # change this according to input text\n",
    "    config[gc.PPN_TASK_OS_FILE_FORMAT] = SyncMapFormat.JSON # change output format at will for later processing\n",
    "    task = Task()\n",
    "    task.configuration = config\n",
    "    task.audio_file_path_absolute = mediafile\n",
    "    task.text_file_path_absolute = textfile\n",
    "\n",
    "    # process Task\n",
    "    ExecuteTask(task).execute()\n",
    "\n",
    "    return task.sync_map.json_string"
   ]
  },
  {
   "cell_type": "markdown",
   "metadata": {},
   "source": [
    "If no data at hand, try the example from [Aeneas repo](https://github.com/readbeyond/aeneas/tree/devel) or grab one from [LibriVox](https://librivox.org)."
   ]
  },
  {
   "cell_type": "code",
   "execution_count": null,
   "metadata": {},
   "outputs": [],
   "source": [
    "align(\"p001.mp3\", \"p001.xhtml\", \"en\")"
   ]
  },
  {
   "cell_type": "code",
   "execution_count": null,
   "metadata": {},
   "outputs": [],
   "source": []
  }
 ],
 "metadata": {
  "kernelspec": {
   "display_name": "Python 3",
   "language": "python",
   "name": "python3"
  },
  "language_info": {
   "codemirror_mode": {
    "name": "ipython",
    "version": 3
   },
   "file_extension": ".py",
   "mimetype": "text/x-python",
   "name": "python",
   "nbconvert_exporter": "python",
   "pygments_lexer": "ipython3",
   "version": "3.6.5"
  }
 },
 "nbformat": 4,
 "nbformat_minor": 2
}
